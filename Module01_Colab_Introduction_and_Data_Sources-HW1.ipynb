{
 "cells": [
  {
   "cell_type": "code",
   "execution_count": 1,
   "metadata": {
    "colab": {
     "base_uri": "https://localhost:8080/"
    },
    "id": "7_BfcEi2ZQwz",
    "outputId": "b9f970e5-f339-488f-dff7-a58897d4c18b"
   },
   "outputs": [
    {
     "name": "stdout",
     "output_type": "stream",
     "text": [
      "Requirement already satisfied: yfinance in c:\\software\\lib\\site-packages (0.2.38)\n",
      "Requirement already satisfied: frozendict>=2.3.4 in c:\\software\\lib\\site-packages (from yfinance) (2.4.2)\n",
      "Requirement already satisfied: pytz>=2022.5 in c:\\software\\lib\\site-packages (from yfinance) (2024.1)\n",
      "Requirement already satisfied: requests>=2.31 in c:\\software\\lib\\site-packages (from yfinance) (2.31.0)\n",
      "Requirement already satisfied: appdirs>=1.4.4 in c:\\software\\lib\\site-packages (from yfinance) (1.4.4)\n",
      "Requirement already satisfied: multitasking>=0.0.7 in c:\\software\\lib\\site-packages (from yfinance) (0.0.11)\n",
      "Requirement already satisfied: lxml>=4.9.1 in c:\\software\\lib\\site-packages (from yfinance) (5.2.1)\n",
      "Requirement already satisfied: pandas>=1.3.0 in c:\\software\\lib\\site-packages (from yfinance) (1.4.2)\n",
      "Requirement already satisfied: beautifulsoup4>=4.11.1 in c:\\software\\lib\\site-packages (from yfinance) (4.11.1)\n",
      "Requirement already satisfied: numpy>=1.16.5 in c:\\software\\lib\\site-packages (from yfinance) (1.21.5)\n",
      "Requirement already satisfied: peewee>=3.16.2 in c:\\software\\lib\\site-packages (from yfinance) (3.17.3)\n",
      "Requirement already satisfied: html5lib>=1.1 in c:\\software\\lib\\site-packages (from yfinance) (1.1)\n",
      "Requirement already satisfied: soupsieve>1.2 in c:\\software\\lib\\site-packages (from beautifulsoup4>=4.11.1->yfinance) (2.3.1)\n",
      "Requirement already satisfied: six>=1.9 in c:\\software\\lib\\site-packages (from html5lib>=1.1->yfinance) (1.16.0)\n",
      "Requirement already satisfied: webencodings in c:\\software\\lib\\site-packages (from html5lib>=1.1->yfinance) (0.5.1)\n",
      "Requirement already satisfied: python-dateutil>=2.8.1 in c:\\software\\lib\\site-packages (from pandas>=1.3.0->yfinance) (2.8.2)\n",
      "Requirement already satisfied: certifi>=2017.4.17 in c:\\software\\lib\\site-packages (from requests>=2.31->yfinance) (2021.10.8)\n",
      "Requirement already satisfied: urllib3<3,>=1.21.1 in c:\\software\\lib\\site-packages (from requests>=2.31->yfinance) (1.26.9)\n",
      "Requirement already satisfied: idna<4,>=2.5 in c:\\software\\lib\\site-packages (from requests>=2.31->yfinance) (3.3)\n",
      "Requirement already satisfied: charset-normalizer<4,>=2 in c:\\software\\lib\\site-packages (from requests>=2.31->yfinance) (2.0.4)\n"
     ]
    }
   ],
   "source": [
    "# install main library YFinance\n",
    "!pip install yfinance"
   ]
  },
  {
   "cell_type": "code",
   "execution_count": 5,
   "metadata": {},
   "outputs": [
    {
     "name": "stdout",
     "output_type": "stream",
     "text": [
      "Collecting pandas_datareader\n",
      "  Downloading pandas_datareader-0.10.0-py3-none-any.whl (109 kB)\n",
      "Requirement already satisfied: lxml in c:\\software\\lib\\site-packages (from pandas_datareader) (5.2.1)\n",
      "Requirement already satisfied: requests>=2.19.0 in c:\\software\\lib\\site-packages (from pandas_datareader) (2.31.0)\n",
      "Requirement already satisfied: pandas>=0.23 in c:\\software\\lib\\site-packages (from pandas_datareader) (1.4.2)\n",
      "Requirement already satisfied: numpy>=1.18.5 in c:\\software\\lib\\site-packages (from pandas>=0.23->pandas_datareader) (1.21.5)\n",
      "Requirement already satisfied: python-dateutil>=2.8.1 in c:\\software\\lib\\site-packages (from pandas>=0.23->pandas_datareader) (2.8.2)\n",
      "Requirement already satisfied: pytz>=2020.1 in c:\\software\\lib\\site-packages (from pandas>=0.23->pandas_datareader) (2024.1)\n",
      "Requirement already satisfied: six>=1.5 in c:\\software\\lib\\site-packages (from python-dateutil>=2.8.1->pandas>=0.23->pandas_datareader) (1.16.0)\n",
      "Requirement already satisfied: certifi>=2017.4.17 in c:\\software\\lib\\site-packages (from requests>=2.19.0->pandas_datareader) (2021.10.8)\n",
      "Requirement already satisfied: idna<4,>=2.5 in c:\\software\\lib\\site-packages (from requests>=2.19.0->pandas_datareader) (3.3)\n",
      "Requirement already satisfied: urllib3<3,>=1.21.1 in c:\\software\\lib\\site-packages (from requests>=2.19.0->pandas_datareader) (1.26.9)\n",
      "Requirement already satisfied: charset-normalizer<4,>=2 in c:\\software\\lib\\site-packages (from requests>=2.19.0->pandas_datareader) (2.0.4)\n",
      "Installing collected packages: pandas-datareader\n",
      "Successfully installed pandas-datareader-0.10.0\n"
     ]
    }
   ],
   "source": [
    "!pip install pandas_datareader"
   ]
  },
  {
   "cell_type": "code",
   "execution_count": 2,
   "metadata": {
    "id": "upIkgS85ZLbF"
   },
   "outputs": [],
   "source": [
    "# IMPORTS\n",
    "import numpy as np\n",
    "import pandas as pd\n",
    "\n",
    "#Fin Data Sources\n",
    "import yfinance as yf\n",
    "import pandas_datareader as pdr\n",
    "\n",
    "#Data viz\n",
    "import plotly.graph_objs as go\n",
    "import plotly.express as px\n",
    "\n",
    "import time\n",
    "from datetime import date\n"
   ]
  },
  {
   "cell_type": "markdown",
   "metadata": {
    "id": "_sMONMJHjXkM"
   },
   "source": [
    "# 1) Understanding Data-Driven Decisions data pulls"
   ]
  },
  {
   "cell_type": "code",
   "execution_count": 61,
   "metadata": {
    "colab": {
     "base_uri": "https://localhost:8080/"
    },
    "id": "YneZ9fqHsjU9",
    "outputId": "251d9513-240a-4e6e-f694-0ed1a5fbcf90"
   },
   "outputs": [
    {
     "name": "stdout",
     "output_type": "stream",
     "text": [
      "Year = 2024; month= 4; day=22\n",
      "Period for indexes: 2000-01-01 to 2024-04-22 \n"
     ]
    }
   ],
   "source": [
    "end = date.today()\n",
    "print(f'Year = {end.year}; month= {end.month}; day={end.day}')\n",
    "\n",
    "start = date(year=2000, month=1, day=1)\n",
    "print(f'Period for indexes: {start} to {end} ')"
   ]
  },
  {
   "cell_type": "markdown",
   "metadata": {
    "id": "ZR5V_n3EsXTu"
   },
   "source": [
    "## A1"
   ]
  },
  {
   "cell_type": "code",
   "execution_count": 4,
   "metadata": {
    "id": "Ij7FDH9usZ0E"
   },
   "outputs": [],
   "source": [
    "# Real Potential Gross Domestic Product (GDPPOT), Billions of Chained 2012 Dollars, QUARTERLY\n",
    "# https://fred.stlouisfed.org/series/GDPPOT\n",
    "gdppot = pdr.DataReader(\"GDPC1\", \"fred\", start=start)"
   ]
  },
  {
   "cell_type": "code",
   "execution_count": 8,
   "metadata": {
    "colab": {
     "base_uri": "https://localhost:8080/",
     "height": 238
    },
    "id": "LwETzXP9shm2",
    "outputId": "75975165-59ff-4a23-acd4-abdc5d018f44"
   },
   "outputs": [
    {
     "data": {
      "text/html": [
       "<div>\n",
       "<style scoped>\n",
       "    .dataframe tbody tr th:only-of-type {\n",
       "        vertical-align: middle;\n",
       "    }\n",
       "\n",
       "    .dataframe tbody tr th {\n",
       "        vertical-align: top;\n",
       "    }\n",
       "\n",
       "    .dataframe thead th {\n",
       "        text-align: right;\n",
       "    }\n",
       "</style>\n",
       "<table border=\"1\" class=\"dataframe\">\n",
       "  <thead>\n",
       "    <tr style=\"text-align: right;\">\n",
       "      <th></th>\n",
       "      <th>GDPC1</th>\n",
       "      <th>gdppot_us_yoy</th>\n",
       "      <th>gdppot_us_qoq</th>\n",
       "    </tr>\n",
       "    <tr>\n",
       "      <th>DATE</th>\n",
       "      <th></th>\n",
       "      <th></th>\n",
       "      <th></th>\n",
       "    </tr>\n",
       "  </thead>\n",
       "  <tbody>\n",
       "    <tr>\n",
       "      <th>2021-07-01</th>\n",
       "      <td>21483.083</td>\n",
       "      <td>0.047353</td>\n",
       "      <td>0.008144</td>\n",
       "    </tr>\n",
       "    <tr>\n",
       "      <th>2021-10-01</th>\n",
       "      <td>21847.602</td>\n",
       "      <td>0.054211</td>\n",
       "      <td>0.016968</td>\n",
       "    </tr>\n",
       "    <tr>\n",
       "      <th>2022-01-01</th>\n",
       "      <td>21738.871</td>\n",
       "      <td>0.035651</td>\n",
       "      <td>-0.004977</td>\n",
       "    </tr>\n",
       "    <tr>\n",
       "      <th>2022-04-01</th>\n",
       "      <td>21708.160</td>\n",
       "      <td>0.018706</td>\n",
       "      <td>-0.001413</td>\n",
       "    </tr>\n",
       "    <tr>\n",
       "      <th>2022-07-01</th>\n",
       "      <td>21851.134</td>\n",
       "      <td>0.017132</td>\n",
       "      <td>0.006586</td>\n",
       "    </tr>\n",
       "    <tr>\n",
       "      <th>2022-10-01</th>\n",
       "      <td>21989.981</td>\n",
       "      <td>0.006517</td>\n",
       "      <td>0.006354</td>\n",
       "    </tr>\n",
       "    <tr>\n",
       "      <th>2023-01-01</th>\n",
       "      <td>22112.329</td>\n",
       "      <td>0.017179</td>\n",
       "      <td>0.005564</td>\n",
       "    </tr>\n",
       "    <tr>\n",
       "      <th>2023-04-01</th>\n",
       "      <td>22225.350</td>\n",
       "      <td>0.023825</td>\n",
       "      <td>0.005111</td>\n",
       "    </tr>\n",
       "    <tr>\n",
       "      <th>2023-07-01</th>\n",
       "      <td>22490.692</td>\n",
       "      <td>0.029269</td>\n",
       "      <td>0.011939</td>\n",
       "    </tr>\n",
       "    <tr>\n",
       "      <th>2023-10-01</th>\n",
       "      <td>22679.255</td>\n",
       "      <td>0.031345</td>\n",
       "      <td>0.008384</td>\n",
       "    </tr>\n",
       "  </tbody>\n",
       "</table>\n",
       "</div>"
      ],
      "text/plain": [
       "                GDPC1  gdppot_us_yoy  gdppot_us_qoq\n",
       "DATE                                               \n",
       "2021-07-01  21483.083       0.047353       0.008144\n",
       "2021-10-01  21847.602       0.054211       0.016968\n",
       "2022-01-01  21738.871       0.035651      -0.004977\n",
       "2022-04-01  21708.160       0.018706      -0.001413\n",
       "2022-07-01  21851.134       0.017132       0.006586\n",
       "2022-10-01  21989.981       0.006517       0.006354\n",
       "2023-01-01  22112.329       0.017179       0.005564\n",
       "2023-04-01  22225.350       0.023825       0.005111\n",
       "2023-07-01  22490.692       0.029269       0.011939\n",
       "2023-10-01  22679.255       0.031345       0.008384"
      ]
     },
     "execution_count": 8,
     "metadata": {},
     "output_type": "execute_result"
    }
   ],
   "source": [
    "gdppot['gdppot_us_yoy'] = gdppot.GDPC1/gdppot.GDPC1.shift(4)-1\n",
    "gdppot['gdppot_us_qoq'] = gdppot.GDPC1/gdppot.GDPC1.shift(1)-1\n",
    "gdppot.tail(10)"
   ]
  },
  {
   "cell_type": "code",
   "execution_count": 71,
   "metadata": {},
   "outputs": [],
   "source": [
    "gdppot[\"avg_yoy\"] = gdppot.gdppot_us_yoy.rolling(4).mean()"
   ]
  },
  {
   "cell_type": "code",
   "execution_count": 72,
   "metadata": {},
   "outputs": [
    {
     "data": {
      "text/html": [
       "<div>\n",
       "<style scoped>\n",
       "    .dataframe tbody tr th:only-of-type {\n",
       "        vertical-align: middle;\n",
       "    }\n",
       "\n",
       "    .dataframe tbody tr th {\n",
       "        vertical-align: top;\n",
       "    }\n",
       "\n",
       "    .dataframe thead th {\n",
       "        text-align: right;\n",
       "    }\n",
       "</style>\n",
       "<table border=\"1\" class=\"dataframe\">\n",
       "  <thead>\n",
       "    <tr style=\"text-align: right;\">\n",
       "      <th></th>\n",
       "      <th>GDPC1</th>\n",
       "      <th>gdppot_us_yoy</th>\n",
       "      <th>gdppot_us_qoq</th>\n",
       "      <th>avg_yoy</th>\n",
       "    </tr>\n",
       "    <tr>\n",
       "      <th>DATE</th>\n",
       "      <th></th>\n",
       "      <th></th>\n",
       "      <th></th>\n",
       "      <th></th>\n",
       "    </tr>\n",
       "  </thead>\n",
       "  <tbody>\n",
       "    <tr>\n",
       "      <th>2022-10-01</th>\n",
       "      <td>21989.981</td>\n",
       "      <td>0.006517</td>\n",
       "      <td>0.006354</td>\n",
       "      <td>0.019501</td>\n",
       "    </tr>\n",
       "    <tr>\n",
       "      <th>2023-01-01</th>\n",
       "      <td>22112.329</td>\n",
       "      <td>0.017179</td>\n",
       "      <td>0.005564</td>\n",
       "      <td>0.014884</td>\n",
       "    </tr>\n",
       "    <tr>\n",
       "      <th>2023-04-01</th>\n",
       "      <td>22225.350</td>\n",
       "      <td>0.023825</td>\n",
       "      <td>0.005111</td>\n",
       "      <td>0.016163</td>\n",
       "    </tr>\n",
       "    <tr>\n",
       "      <th>2023-07-01</th>\n",
       "      <td>22490.692</td>\n",
       "      <td>0.029269</td>\n",
       "      <td>0.011939</td>\n",
       "      <td>0.019197</td>\n",
       "    </tr>\n",
       "    <tr>\n",
       "      <th>2023-10-01</th>\n",
       "      <td>22679.255</td>\n",
       "      <td>0.031345</td>\n",
       "      <td>0.008384</td>\n",
       "      <td>0.025404</td>\n",
       "    </tr>\n",
       "  </tbody>\n",
       "</table>\n",
       "</div>"
      ],
      "text/plain": [
       "                GDPC1  gdppot_us_yoy  gdppot_us_qoq   avg_yoy\n",
       "DATE                                                         \n",
       "2022-10-01  21989.981       0.006517       0.006354  0.019501\n",
       "2023-01-01  22112.329       0.017179       0.005564  0.014884\n",
       "2023-04-01  22225.350       0.023825       0.005111  0.016163\n",
       "2023-07-01  22490.692       0.029269       0.011939  0.019197\n",
       "2023-10-01  22679.255       0.031345       0.008384  0.025404"
      ]
     },
     "execution_count": 72,
     "metadata": {},
     "output_type": "execute_result"
    }
   ],
   "source": [
    "gdppot.tail()"
   ]
  },
  {
   "cell_type": "markdown",
   "metadata": {
    "id": "S4ohYDNbYg7I"
   },
   "source": [
    "## A2"
   ]
  },
  {
   "cell_type": "code",
   "execution_count": 75,
   "metadata": {
    "colab": {
     "base_uri": "https://localhost:8080/",
     "height": 238
    },
    "id": "TguI_TLsd5uk",
    "outputId": "eea73278-8ad2-4bc4-bb01-647ebd2a0630"
   },
   "outputs": [
    {
     "data": {
      "text/html": [
       "<div>\n",
       "<style scoped>\n",
       "    .dataframe tbody tr th:only-of-type {\n",
       "        vertical-align: middle;\n",
       "    }\n",
       "\n",
       "    .dataframe tbody tr th {\n",
       "        vertical-align: top;\n",
       "    }\n",
       "\n",
       "    .dataframe thead th {\n",
       "        text-align: right;\n",
       "    }\n",
       "</style>\n",
       "<table border=\"1\" class=\"dataframe\">\n",
       "  <thead>\n",
       "    <tr style=\"text-align: right;\">\n",
       "      <th></th>\n",
       "      <th>DGS2</th>\n",
       "    </tr>\n",
       "    <tr>\n",
       "      <th>DATE</th>\n",
       "      <th></th>\n",
       "    </tr>\n",
       "  </thead>\n",
       "  <tbody>\n",
       "    <tr>\n",
       "      <th>2024-04-12</th>\n",
       "      <td>4.88</td>\n",
       "    </tr>\n",
       "    <tr>\n",
       "      <th>2024-04-15</th>\n",
       "      <td>4.93</td>\n",
       "    </tr>\n",
       "    <tr>\n",
       "      <th>2024-04-16</th>\n",
       "      <td>4.97</td>\n",
       "    </tr>\n",
       "    <tr>\n",
       "      <th>2024-04-17</th>\n",
       "      <td>4.93</td>\n",
       "    </tr>\n",
       "    <tr>\n",
       "      <th>2024-04-18</th>\n",
       "      <td>4.98</td>\n",
       "    </tr>\n",
       "  </tbody>\n",
       "</table>\n",
       "</div>"
      ],
      "text/plain": [
       "            DGS2\n",
       "DATE            \n",
       "2024-04-12  4.88\n",
       "2024-04-15  4.93\n",
       "2024-04-16  4.97\n",
       "2024-04-17  4.93\n",
       "2024-04-18  4.98"
      ]
     },
     "execution_count": 75,
     "metadata": {},
     "output_type": "execute_result"
    }
   ],
   "source": [
    "# https://fred.stlouisfed.org/series/DGS1\n",
    "dgs2 = pdr.DataReader(\"DGS2\", \"fred\", start=start)\n",
    "dgs2.tail()"
   ]
  },
  {
   "cell_type": "code",
   "execution_count": 76,
   "metadata": {
    "colab": {
     "base_uri": "https://localhost:8080/",
     "height": 238
    },
    "id": "MeZn8feveKzd",
    "outputId": "387b53e9-00de-4e1e-ea52-7d93fbeee1f7"
   },
   "outputs": [
    {
     "data": {
      "text/html": [
       "<div>\n",
       "<style scoped>\n",
       "    .dataframe tbody tr th:only-of-type {\n",
       "        vertical-align: middle;\n",
       "    }\n",
       "\n",
       "    .dataframe tbody tr th {\n",
       "        vertical-align: top;\n",
       "    }\n",
       "\n",
       "    .dataframe thead th {\n",
       "        text-align: right;\n",
       "    }\n",
       "</style>\n",
       "<table border=\"1\" class=\"dataframe\">\n",
       "  <thead>\n",
       "    <tr style=\"text-align: right;\">\n",
       "      <th></th>\n",
       "      <th>DGS10</th>\n",
       "    </tr>\n",
       "    <tr>\n",
       "      <th>DATE</th>\n",
       "      <th></th>\n",
       "    </tr>\n",
       "  </thead>\n",
       "  <tbody>\n",
       "    <tr>\n",
       "      <th>2024-04-12</th>\n",
       "      <td>4.50</td>\n",
       "    </tr>\n",
       "    <tr>\n",
       "      <th>2024-04-15</th>\n",
       "      <td>4.63</td>\n",
       "    </tr>\n",
       "    <tr>\n",
       "      <th>2024-04-16</th>\n",
       "      <td>4.67</td>\n",
       "    </tr>\n",
       "    <tr>\n",
       "      <th>2024-04-17</th>\n",
       "      <td>4.59</td>\n",
       "    </tr>\n",
       "    <tr>\n",
       "      <th>2024-04-18</th>\n",
       "      <td>4.64</td>\n",
       "    </tr>\n",
       "  </tbody>\n",
       "</table>\n",
       "</div>"
      ],
      "text/plain": [
       "            DGS10\n",
       "DATE             \n",
       "2024-04-12   4.50\n",
       "2024-04-15   4.63\n",
       "2024-04-16   4.67\n",
       "2024-04-17   4.59\n",
       "2024-04-18   4.64"
      ]
     },
     "execution_count": 76,
     "metadata": {},
     "output_type": "execute_result"
    }
   ],
   "source": [
    "# https://fred.stlouisfed.org/series/DGS5\n",
    "dgs10 = pdr.DataReader(\"DGS10\", \"fred\", start=start)\n",
    "dgs10.tail()"
   ]
  },
  {
   "cell_type": "code",
   "execution_count": 77,
   "metadata": {},
   "outputs": [],
   "source": [
    "result = dgs2.join(dgs10, how=\"inner\")"
   ]
  },
  {
   "cell_type": "code",
   "execution_count": 78,
   "metadata": {},
   "outputs": [
    {
     "data": {
      "text/html": [
       "<div>\n",
       "<style scoped>\n",
       "    .dataframe tbody tr th:only-of-type {\n",
       "        vertical-align: middle;\n",
       "    }\n",
       "\n",
       "    .dataframe tbody tr th {\n",
       "        vertical-align: top;\n",
       "    }\n",
       "\n",
       "    .dataframe thead th {\n",
       "        text-align: right;\n",
       "    }\n",
       "</style>\n",
       "<table border=\"1\" class=\"dataframe\">\n",
       "  <thead>\n",
       "    <tr style=\"text-align: right;\">\n",
       "      <th></th>\n",
       "      <th>DGS2</th>\n",
       "      <th>DGS10</th>\n",
       "    </tr>\n",
       "    <tr>\n",
       "      <th>DATE</th>\n",
       "      <th></th>\n",
       "      <th></th>\n",
       "    </tr>\n",
       "  </thead>\n",
       "  <tbody>\n",
       "    <tr>\n",
       "      <th>2000-01-03</th>\n",
       "      <td>6.38</td>\n",
       "      <td>6.58</td>\n",
       "    </tr>\n",
       "    <tr>\n",
       "      <th>2000-01-04</th>\n",
       "      <td>6.30</td>\n",
       "      <td>6.49</td>\n",
       "    </tr>\n",
       "    <tr>\n",
       "      <th>2000-01-05</th>\n",
       "      <td>6.38</td>\n",
       "      <td>6.62</td>\n",
       "    </tr>\n",
       "    <tr>\n",
       "      <th>2000-01-06</th>\n",
       "      <td>6.35</td>\n",
       "      <td>6.57</td>\n",
       "    </tr>\n",
       "    <tr>\n",
       "      <th>2000-01-07</th>\n",
       "      <td>6.31</td>\n",
       "      <td>6.52</td>\n",
       "    </tr>\n",
       "  </tbody>\n",
       "</table>\n",
       "</div>"
      ],
      "text/plain": [
       "            DGS2  DGS10\n",
       "DATE                   \n",
       "2000-01-03  6.38   6.58\n",
       "2000-01-04  6.30   6.49\n",
       "2000-01-05  6.38   6.62\n",
       "2000-01-06  6.35   6.57\n",
       "2000-01-07  6.31   6.52"
      ]
     },
     "execution_count": 78,
     "metadata": {},
     "output_type": "execute_result"
    }
   ],
   "source": [
    "result.head()"
   ]
  },
  {
   "cell_type": "code",
   "execution_count": 79,
   "metadata": {},
   "outputs": [],
   "source": [
    "result[\"diff\"]=result[\"DGS10\"]-result[\"DGS2\"]"
   ]
  },
  {
   "cell_type": "code",
   "execution_count": 44,
   "metadata": {},
   "outputs": [
    {
     "data": {
      "text/plain": [
       "DGS2     float64\n",
       "DGS10    float64\n",
       "diff     float64\n",
       "dtype: object"
      ]
     },
     "execution_count": 44,
     "metadata": {},
     "output_type": "execute_result"
    }
   ],
   "source": [
    "result.dtypes"
   ]
  },
  {
   "cell_type": "code",
   "execution_count": 82,
   "metadata": {},
   "outputs": [
    {
     "data": {
      "text/html": [
       "<div>\n",
       "<style scoped>\n",
       "    .dataframe tbody tr th:only-of-type {\n",
       "        vertical-align: middle;\n",
       "    }\n",
       "\n",
       "    .dataframe tbody tr th {\n",
       "        vertical-align: top;\n",
       "    }\n",
       "\n",
       "    .dataframe thead th {\n",
       "        text-align: right;\n",
       "    }\n",
       "</style>\n",
       "<table border=\"1\" class=\"dataframe\">\n",
       "  <thead>\n",
       "    <tr style=\"text-align: right;\">\n",
       "      <th></th>\n",
       "      <th>DGS2</th>\n",
       "      <th>DGS10</th>\n",
       "      <th>diff</th>\n",
       "    </tr>\n",
       "    <tr>\n",
       "      <th>DATE</th>\n",
       "      <th></th>\n",
       "      <th></th>\n",
       "      <th></th>\n",
       "    </tr>\n",
       "  </thead>\n",
       "  <tbody>\n",
       "    <tr>\n",
       "      <th>2023-07-03</th>\n",
       "      <td>4.94</td>\n",
       "      <td>3.86</td>\n",
       "      <td>-1.08</td>\n",
       "    </tr>\n",
       "  </tbody>\n",
       "</table>\n",
       "</div>"
      ],
      "text/plain": [
       "            DGS2  DGS10  diff\n",
       "DATE                         \n",
       "2023-07-03  4.94   3.86 -1.08"
      ]
     },
     "execution_count": 82,
     "metadata": {},
     "output_type": "execute_result"
    }
   ],
   "source": [
    "result.nsmallest(1, 'diff')"
   ]
  },
  {
   "cell_type": "markdown",
   "metadata": {
    "id": "Ur9Cllsdsb2Y"
   },
   "source": [
    "## A3"
   ]
  },
  {
   "cell_type": "code",
   "execution_count": 246,
   "metadata": {
    "colab": {
     "base_uri": "https://localhost:8080/",
     "height": 238
    },
    "id": "IIK-6smEjeer",
    "outputId": "3371e2b1-cf2a-440a-ea21-161b2a9d3209"
   },
   "outputs": [
    {
     "name": "stderr",
     "output_type": "stream",
     "text": [
      "[*********************100%%**********************]  1 of 1 completed\n"
     ]
    }
   ],
   "source": [
    "# first method\n",
    "\n",
    "gspc_daily = yf.download(tickers = \"^GSPC\",\n",
    "                    start=\"2019-04-09\",\n",
    "                      end=\"2024-04-10\",\n",
    "                     interval = \"1d\")"
   ]
  },
  {
   "cell_type": "code",
   "execution_count": 248,
   "metadata": {},
   "outputs": [
    {
     "data": {
      "text/plain": [
       "1.8101279426847174"
      ]
     },
     "execution_count": 248,
     "metadata": {},
     "output_type": "execute_result"
    }
   ],
   "source": [
    "gspc_daily[(gspc_daily.index=='2024-04-09')]['Close'][0]/gspc_daily[(gspc_daily.index=='2019-04-09')]['Close'][0]"
   ]
  },
  {
   "cell_type": "code",
   "execution_count": 249,
   "metadata": {},
   "outputs": [
    {
     "name": "stderr",
     "output_type": "stream",
     "text": [
      "[*********************100%%**********************]  1 of 1 completed\n"
     ]
    }
   ],
   "source": [
    "mxx_daily = yf.download(tickers = \"^MXX\",\n",
    "                    start=\"2019-04-09\",\n",
    "                      end=\"2024-04-10\",\n",
    "                     interval = \"1d\")"
   ]
  },
  {
   "cell_type": "code",
   "execution_count": 250,
   "metadata": {},
   "outputs": [
    {
     "data": {
      "text/plain": [
       "1.2750624912566744"
      ]
     },
     "execution_count": 250,
     "metadata": {},
     "output_type": "execute_result"
    }
   ],
   "source": [
    "mxx_daily[(mxx_daily.index=='2024-04-09')]['Close'][0]/mxx_daily[(mxx_daily.index=='2019-04-09')]['Close'][0]"
   ]
  },
  {
   "cell_type": "code",
   "execution_count": 251,
   "metadata": {},
   "outputs": [
    {
     "data": {
      "text/html": [
       "<div>\n",
       "<style scoped>\n",
       "    .dataframe tbody tr th:only-of-type {\n",
       "        vertical-align: middle;\n",
       "    }\n",
       "\n",
       "    .dataframe tbody tr th {\n",
       "        vertical-align: top;\n",
       "    }\n",
       "\n",
       "    .dataframe thead th {\n",
       "        text-align: right;\n",
       "    }\n",
       "</style>\n",
       "<table border=\"1\" class=\"dataframe\">\n",
       "  <thead>\n",
       "    <tr style=\"text-align: right;\">\n",
       "      <th></th>\n",
       "      <th>Open</th>\n",
       "      <th>High</th>\n",
       "      <th>Low</th>\n",
       "      <th>Close</th>\n",
       "      <th>Volume</th>\n",
       "    </tr>\n",
       "    <tr>\n",
       "      <th>Date</th>\n",
       "      <th></th>\n",
       "      <th></th>\n",
       "      <th></th>\n",
       "      <th></th>\n",
       "      <th></th>\n",
       "    </tr>\n",
       "  </thead>\n",
       "  <tbody>\n",
       "    <tr>\n",
       "      <th>2024-04-22</th>\n",
       "      <td>4987.33</td>\n",
       "      <td>5038.84</td>\n",
       "      <td>4969.40</td>\n",
       "      <td>5010.60</td>\n",
       "      <td>2.352809e+09</td>\n",
       "    </tr>\n",
       "    <tr>\n",
       "      <th>2024-04-19</th>\n",
       "      <td>5005.44</td>\n",
       "      <td>5019.02</td>\n",
       "      <td>4953.56</td>\n",
       "      <td>4967.23</td>\n",
       "      <td>2.735280e+09</td>\n",
       "    </tr>\n",
       "    <tr>\n",
       "      <th>2024-04-18</th>\n",
       "      <td>5031.52</td>\n",
       "      <td>5056.66</td>\n",
       "      <td>5001.89</td>\n",
       "      <td>5011.12</td>\n",
       "      <td>2.217369e+09</td>\n",
       "    </tr>\n",
       "    <tr>\n",
       "      <th>2024-04-17</th>\n",
       "      <td>5068.97</td>\n",
       "      <td>5077.96</td>\n",
       "      <td>5007.25</td>\n",
       "      <td>5022.21</td>\n",
       "      <td>2.295628e+09</td>\n",
       "    </tr>\n",
       "    <tr>\n",
       "      <th>2024-04-16</th>\n",
       "      <td>5064.59</td>\n",
       "      <td>5079.84</td>\n",
       "      <td>5039.83</td>\n",
       "      <td>5051.41</td>\n",
       "      <td>2.347350e+09</td>\n",
       "    </tr>\n",
       "  </tbody>\n",
       "</table>\n",
       "</div>"
      ],
      "text/plain": [
       "               Open     High      Low    Close        Volume\n",
       "Date                                                        \n",
       "2024-04-22  4987.33  5038.84  4969.40  5010.60  2.352809e+09\n",
       "2024-04-19  5005.44  5019.02  4953.56  4967.23  2.735280e+09\n",
       "2024-04-18  5031.52  5056.66  5001.89  5011.12  2.217369e+09\n",
       "2024-04-17  5068.97  5077.96  5007.25  5022.21  2.295628e+09\n",
       "2024-04-16  5064.59  5079.84  5039.83  5051.41  2.347350e+09"
      ]
     },
     "execution_count": 251,
     "metadata": {},
     "output_type": "execute_result"
    }
   ],
   "source": [
    "# second method\n",
    "# indexes: https://stooq.com/t/\n",
    "spx_index = pdr.get_data_stooq('^SPX', start, end)\n",
    "spx_index.head()"
   ]
  },
  {
   "cell_type": "code",
   "execution_count": 85,
   "metadata": {
    "id": "Bs_I6zCbpezr"
   },
   "outputs": [],
   "source": [
    "# 252 trading days a year\n",
    "  # REVERSE ORDER OF THE DATA!!!\n",
    "spx_index['spx_dod'] = (spx_index.Close/spx_index.Close.shift(-1)-1)\n",
    "spx_index['spx_qoq'] = (spx_index.Close/spx_index.Close.shift(-63)-1)\n",
    "spx_index['spx_yoy'] = (spx_index.Close/spx_index.Close.shift(-252)-1)"
   ]
  },
  {
   "cell_type": "code",
   "execution_count": 133,
   "metadata": {},
   "outputs": [],
   "source": [
    "# 252 trading days a year\n",
    "  # REVERSE ORDER OF THE DATA!!!\n",
    "ipc_index['ipc_dod'] = (ipc_index.Close/ipc_index.Close.shift(-1)-1)\n",
    "ipc_index['ipc_qoq'] = (ipc_index.Close/ipc_index.Close.shift(-63)-1)\n",
    "ipc_index['ipc_yoy'] = (ipc_index.Close/ipc_index.Close.shift(-252)-1)"
   ]
  },
  {
   "cell_type": "code",
   "execution_count": 86,
   "metadata": {
    "colab": {
     "base_uri": "https://localhost:8080/",
     "height": 238
    },
    "id": "HHczkufwpgMZ",
    "outputId": "1496f480-70e3-4d84-9a12-15c8a35e9f0c"
   },
   "outputs": [
    {
     "data": {
      "text/html": [
       "<div>\n",
       "<style scoped>\n",
       "    .dataframe tbody tr th:only-of-type {\n",
       "        vertical-align: middle;\n",
       "    }\n",
       "\n",
       "    .dataframe tbody tr th {\n",
       "        vertical-align: top;\n",
       "    }\n",
       "\n",
       "    .dataframe thead th {\n",
       "        text-align: right;\n",
       "    }\n",
       "</style>\n",
       "<table border=\"1\" class=\"dataframe\">\n",
       "  <thead>\n",
       "    <tr style=\"text-align: right;\">\n",
       "      <th></th>\n",
       "      <th>Open</th>\n",
       "      <th>High</th>\n",
       "      <th>Low</th>\n",
       "      <th>Close</th>\n",
       "      <th>Volume</th>\n",
       "      <th>spx_dod</th>\n",
       "      <th>spx_qoq</th>\n",
       "      <th>spx_yoy</th>\n",
       "    </tr>\n",
       "    <tr>\n",
       "      <th>Date</th>\n",
       "      <th></th>\n",
       "      <th></th>\n",
       "      <th></th>\n",
       "      <th></th>\n",
       "      <th></th>\n",
       "      <th></th>\n",
       "      <th></th>\n",
       "      <th></th>\n",
       "    </tr>\n",
       "  </thead>\n",
       "  <tbody>\n",
       "    <tr>\n",
       "      <th>2024-04-19</th>\n",
       "      <td>5005.44</td>\n",
       "      <td>5019.02</td>\n",
       "      <td>4953.56</td>\n",
       "      <td>4967.23</td>\n",
       "      <td>2.727319e+09</td>\n",
       "      <td>-0.008759</td>\n",
       "      <td>0.026327</td>\n",
       "      <td>0.195621</td>\n",
       "    </tr>\n",
       "    <tr>\n",
       "      <th>2024-04-18</th>\n",
       "      <td>5031.52</td>\n",
       "      <td>5056.66</td>\n",
       "      <td>5001.89</td>\n",
       "      <td>5011.12</td>\n",
       "      <td>2.217369e+09</td>\n",
       "      <td>-0.002208</td>\n",
       "      <td>0.048145</td>\n",
       "      <td>0.206083</td>\n",
       "    </tr>\n",
       "    <tr>\n",
       "      <th>2024-04-17</th>\n",
       "      <td>5068.97</td>\n",
       "      <td>5077.96</td>\n",
       "      <td>5007.25</td>\n",
       "      <td>5022.21</td>\n",
       "      <td>2.295628e+09</td>\n",
       "      <td>-0.005781</td>\n",
       "      <td>0.059715</td>\n",
       "      <td>0.209786</td>\n",
       "    </tr>\n",
       "    <tr>\n",
       "      <th>2024-04-16</th>\n",
       "      <td>5064.59</td>\n",
       "      <td>5079.84</td>\n",
       "      <td>5039.83</td>\n",
       "      <td>5051.41</td>\n",
       "      <td>2.347350e+09</td>\n",
       "      <td>-0.002057</td>\n",
       "      <td>0.059889</td>\n",
       "      <td>0.220843</td>\n",
       "    </tr>\n",
       "    <tr>\n",
       "      <th>2024-04-15</th>\n",
       "      <td>5149.67</td>\n",
       "      <td>5168.43</td>\n",
       "      <td>5052.47</td>\n",
       "      <td>5061.82</td>\n",
       "      <td>2.319452e+09</td>\n",
       "      <td>-0.012021</td>\n",
       "      <td>0.058110</td>\n",
       "      <td>0.220828</td>\n",
       "    </tr>\n",
       "  </tbody>\n",
       "</table>\n",
       "</div>"
      ],
      "text/plain": [
       "               Open     High      Low    Close        Volume   spx_dod  \\\n",
       "Date                                                                     \n",
       "2024-04-19  5005.44  5019.02  4953.56  4967.23  2.727319e+09 -0.008759   \n",
       "2024-04-18  5031.52  5056.66  5001.89  5011.12  2.217369e+09 -0.002208   \n",
       "2024-04-17  5068.97  5077.96  5007.25  5022.21  2.295628e+09 -0.005781   \n",
       "2024-04-16  5064.59  5079.84  5039.83  5051.41  2.347350e+09 -0.002057   \n",
       "2024-04-15  5149.67  5168.43  5052.47  5061.82  2.319452e+09 -0.012021   \n",
       "\n",
       "             spx_qoq   spx_yoy  \n",
       "Date                            \n",
       "2024-04-19  0.026327  0.195621  \n",
       "2024-04-18  0.048145  0.206083  \n",
       "2024-04-17  0.059715  0.209786  \n",
       "2024-04-16  0.059889  0.220843  \n",
       "2024-04-15  0.058110  0.220828  "
      ]
     },
     "execution_count": 86,
     "metadata": {},
     "output_type": "execute_result"
    }
   ],
   "source": [
    "spx_index.head()"
   ]
  },
  {
   "cell_type": "code",
   "execution_count": 134,
   "metadata": {},
   "outputs": [
    {
     "data": {
      "text/html": [
       "<div>\n",
       "<style scoped>\n",
       "    .dataframe tbody tr th:only-of-type {\n",
       "        vertical-align: middle;\n",
       "    }\n",
       "\n",
       "    .dataframe tbody tr th {\n",
       "        vertical-align: top;\n",
       "    }\n",
       "\n",
       "    .dataframe thead th {\n",
       "        text-align: right;\n",
       "    }\n",
       "</style>\n",
       "<table border=\"1\" class=\"dataframe\">\n",
       "  <thead>\n",
       "    <tr style=\"text-align: right;\">\n",
       "      <th></th>\n",
       "      <th>Open</th>\n",
       "      <th>High</th>\n",
       "      <th>Low</th>\n",
       "      <th>Close</th>\n",
       "      <th>Volume</th>\n",
       "      <th>ipc_dod</th>\n",
       "      <th>ipc_qoq</th>\n",
       "      <th>ipc_yoy</th>\n",
       "    </tr>\n",
       "    <tr>\n",
       "      <th>Date</th>\n",
       "      <th></th>\n",
       "      <th></th>\n",
       "      <th></th>\n",
       "      <th></th>\n",
       "      <th></th>\n",
       "      <th></th>\n",
       "      <th></th>\n",
       "      <th></th>\n",
       "    </tr>\n",
       "  </thead>\n",
       "  <tbody>\n",
       "    <tr>\n",
       "      <th>2024-04-19</th>\n",
       "      <td>55811.19</td>\n",
       "      <td>56036.72</td>\n",
       "      <td>55579.69</td>\n",
       "      <td>55862.85</td>\n",
       "      <td>NaN</td>\n",
       "      <td>0.002214</td>\n",
       "      <td>0.021040</td>\n",
       "      <td>0.028629</td>\n",
       "    </tr>\n",
       "    <tr>\n",
       "      <th>2024-04-18</th>\n",
       "      <td>55597.79</td>\n",
       "      <td>55941.62</td>\n",
       "      <td>55585.82</td>\n",
       "      <td>55739.43</td>\n",
       "      <td>208671898.0</td>\n",
       "      <td>0.005842</td>\n",
       "      <td>0.011154</td>\n",
       "      <td>0.024895</td>\n",
       "    </tr>\n",
       "    <tr>\n",
       "      <th>2024-04-17</th>\n",
       "      <td>55788.74</td>\n",
       "      <td>56090.32</td>\n",
       "      <td>55383.25</td>\n",
       "      <td>55415.69</td>\n",
       "      <td>244258908.0</td>\n",
       "      <td>-0.006838</td>\n",
       "      <td>-0.001539</td>\n",
       "      <td>0.011624</td>\n",
       "    </tr>\n",
       "    <tr>\n",
       "      <th>2024-04-16</th>\n",
       "      <td>56009.73</td>\n",
       "      <td>56148.00</td>\n",
       "      <td>55626.75</td>\n",
       "      <td>55797.25</td>\n",
       "      <td>225862911.0</td>\n",
       "      <td>-0.003336</td>\n",
       "      <td>0.003420</td>\n",
       "      <td>0.024554</td>\n",
       "    </tr>\n",
       "    <tr>\n",
       "      <th>2024-04-15</th>\n",
       "      <td>56536.47</td>\n",
       "      <td>56709.12</td>\n",
       "      <td>55924.10</td>\n",
       "      <td>55984.00</td>\n",
       "      <td>170645737.0</td>\n",
       "      <td>-0.010287</td>\n",
       "      <td>0.009835</td>\n",
       "      <td>0.023552</td>\n",
       "    </tr>\n",
       "  </tbody>\n",
       "</table>\n",
       "</div>"
      ],
      "text/plain": [
       "                Open      High       Low     Close       Volume   ipc_dod  \\\n",
       "Date                                                                        \n",
       "2024-04-19  55811.19  56036.72  55579.69  55862.85          NaN  0.002214   \n",
       "2024-04-18  55597.79  55941.62  55585.82  55739.43  208671898.0  0.005842   \n",
       "2024-04-17  55788.74  56090.32  55383.25  55415.69  244258908.0 -0.006838   \n",
       "2024-04-16  56009.73  56148.00  55626.75  55797.25  225862911.0 -0.003336   \n",
       "2024-04-15  56536.47  56709.12  55924.10  55984.00  170645737.0 -0.010287   \n",
       "\n",
       "             ipc_qoq   ipc_yoy  \n",
       "Date                            \n",
       "2024-04-19  0.021040  0.028629  \n",
       "2024-04-18  0.011154  0.024895  \n",
       "2024-04-17 -0.001539  0.011624  \n",
       "2024-04-16  0.003420  0.024554  \n",
       "2024-04-15  0.009835  0.023552  "
      ]
     },
     "execution_count": 134,
     "metadata": {},
     "output_type": "execute_result"
    }
   ],
   "source": [
    "ipc_index.head()"
   ]
  },
  {
   "cell_type": "code",
   "execution_count": 89,
   "metadata": {
    "id": "u5ZsJX5-AFoa"
   },
   "outputs": [],
   "source": [
    "spx_truncated = spx_index[(spx_index.index>='2019-04-09') & (spx_index.index<='2024-04-09')]"
   ]
  },
  {
   "cell_type": "code",
   "execution_count": 121,
   "metadata": {},
   "outputs": [],
   "source": [
    "spx_start=spx_index[(spx_index.index=='2019-04-09')]['Close']"
   ]
  },
  {
   "cell_type": "code",
   "execution_count": 122,
   "metadata": {},
   "outputs": [],
   "source": [
    "spx_end=spx_index[(spx_index.index=='2024-04-09')]['Close']"
   ]
  },
  {
   "cell_type": "code",
   "execution_count": 135,
   "metadata": {},
   "outputs": [],
   "source": [
    "ipc_start=ipc_index[(ipc_index.index=='2019-04-09')]['Close']"
   ]
  },
  {
   "cell_type": "code",
   "execution_count": 136,
   "metadata": {},
   "outputs": [],
   "source": [
    "ipc_end=ipc_index[(ipc_index.index=='2024-04-09')]['Close']"
   ]
  },
  {
   "cell_type": "code",
   "execution_count": 125,
   "metadata": {},
   "outputs": [
    {
     "data": {
      "text/plain": [
       "1.8101278576888333"
      ]
     },
     "execution_count": 125,
     "metadata": {},
     "output_type": "execute_result"
    }
   ],
   "source": [
    "spx_end.iloc[0]/spx_start.iloc[0]"
   ]
  },
  {
   "cell_type": "code",
   "execution_count": 137,
   "metadata": {},
   "outputs": [
    {
     "data": {
      "text/plain": [
       "1.2750627164512114"
      ]
     },
     "execution_count": 137,
     "metadata": {},
     "output_type": "execute_result"
    }
   ],
   "source": [
    "ipc_end.iloc[0]/ipc_start.iloc[0]"
   ]
  },
  {
   "cell_type": "markdown",
   "metadata": {
    "id": "tGBFWT0fAabM"
   },
   "source": [
    "## A4"
   ]
  },
  {
   "cell_type": "code",
   "execution_count": 157,
   "metadata": {
    "colab": {
     "base_uri": "https://localhost:8080/"
    },
    "id": "jaKiqmzff3QZ",
    "outputId": "b244bc45-3429-4863-aefe-59b79075f991"
   },
   "outputs": [
    {
     "name": "stderr",
     "output_type": "stream",
     "text": [
      "[*********************100%%**********************]  1 of 1 completed\n"
     ]
    }
   ],
   "source": [
    "# INDEXES from Yahoo Finance\n",
    "# DAX index (XETRA - XETRA Delayed Price. Currency in EUR)\n",
    "# WEB: https://finance.yahoo.com/quote/%5EGDAXI\n",
    "jpm_daily = yf.download(tickers = \"JPM\",\n",
    "                     start=\"2023-01-01\",\n",
    "                      end=\"2023-12-31\",\n",
    "                     interval = \"1d\")"
   ]
  },
  {
   "cell_type": "code",
   "execution_count": 158,
   "metadata": {},
   "outputs": [
    {
     "name": "stderr",
     "output_type": "stream",
     "text": [
      "[*********************100%%**********************]  1 of 1 completed\n"
     ]
    }
   ],
   "source": [
    "goog_daily = yf.download(tickers = \"GOOG\",\n",
    "                    start=\"2023-01-01\",\n",
    "                      end=\"2023-12-31\",\n",
    "                     interval = \"1d\")"
   ]
  },
  {
   "cell_type": "code",
   "execution_count": 159,
   "metadata": {},
   "outputs": [
    {
     "name": "stderr",
     "output_type": "stream",
     "text": [
      "[*********************100%%**********************]  1 of 1 completed\n"
     ]
    }
   ],
   "source": [
    "msft_daily = yf.download(tickers = \"MSFT\",\n",
    "                    start=\"2023-01-01\",\n",
    "                      end=\"2023-12-31\",\n",
    "                     interval = \"1d\")"
   ]
  },
  {
   "cell_type": "code",
   "execution_count": 160,
   "metadata": {},
   "outputs": [
    {
     "name": "stderr",
     "output_type": "stream",
     "text": [
      "[*********************100%%**********************]  1 of 1 completed\n"
     ]
    }
   ],
   "source": [
    "aapl_daily = yf.download(tickers = \"AAPL\",\n",
    "                    start=\"2023-01-01\",\n",
    "                      end=\"2023-12-31\",\n",
    "                     interval = \"1d\")"
   ]
  },
  {
   "cell_type": "code",
   "execution_count": 161,
   "metadata": {},
   "outputs": [
    {
     "name": "stderr",
     "output_type": "stream",
     "text": [
      "[*********************100%%**********************]  1 of 1 completed\n"
     ]
    }
   ],
   "source": [
    "brkb_daily = yf.download(tickers = \"BRK-B\",\n",
    "                    start=\"2023-01-01\",\n",
    "                      end=\"2023-12-31\",\n",
    "                     interval = \"1d\")"
   ]
  },
  {
   "cell_type": "code",
   "execution_count": 162,
   "metadata": {},
   "outputs": [
    {
     "name": "stderr",
     "output_type": "stream",
     "text": [
      "[*********************100%%**********************]  1 of 1 completed\n"
     ]
    }
   ],
   "source": [
    "sr2222_daily = yf.download(tickers = \"2222.SR\",\n",
    "                    start=\"2023-01-01\",\n",
    "                      end=\"2023-12-31\",\n",
    "                     interval = \"1d\")"
   ]
  },
  {
   "cell_type": "code",
   "execution_count": 172,
   "metadata": {},
   "outputs": [
    {
     "data": {
      "text/plain": [
       "0.28249927707093897"
      ]
     },
     "execution_count": 172,
     "metadata": {},
     "output_type": "execute_result"
    }
   ],
   "source": [
    "(jpm_daily['Adj Close'].max()-jpm_daily['Adj Close'].min())/jpm_daily['Adj Close'].max()"
   ]
  },
  {
   "cell_type": "code",
   "execution_count": 173,
   "metadata": {},
   "outputs": [
    {
     "data": {
      "text/plain": [
       "0.3924520921912013"
      ]
     },
     "execution_count": 173,
     "metadata": {},
     "output_type": "execute_result"
    }
   ],
   "source": [
    "(goog_daily['Adj Close'].max()-goog_daily['Adj Close'].min())/goog_daily['Adj Close'].max()"
   ]
  },
  {
   "cell_type": "code",
   "execution_count": 174,
   "metadata": {},
   "outputs": [
    {
     "data": {
      "text/plain": [
       "0.4242066914981641"
      ]
     },
     "execution_count": 174,
     "metadata": {},
     "output_type": "execute_result"
    }
   ],
   "source": [
    "(msft_daily['Adj Close'].max()-msft_daily['Adj Close'].min())/msft_daily['Adj Close'].max()"
   ]
  },
  {
   "cell_type": "code",
   "execution_count": 175,
   "metadata": {},
   "outputs": [
    {
     "data": {
      "text/plain": [
       "0.20775750091289963"
      ]
     },
     "execution_count": 175,
     "metadata": {},
     "output_type": "execute_result"
    }
   ],
   "source": [
    "(brkb_daily['Adj Close'].max()-brkb_daily['Adj Close'].min())/brkb_daily['Adj Close'].max()"
   ]
  },
  {
   "cell_type": "code",
   "execution_count": 176,
   "metadata": {
    "colab": {
     "base_uri": "https://localhost:8080/",
     "height": 238
    },
    "id": "BXuiJ9GtgJnr",
    "outputId": "8e297f75-c68a-408f-b690-aa911aa418f4"
   },
   "outputs": [
    {
     "data": {
      "text/plain": [
       "0.21393070882746015"
      ]
     },
     "execution_count": 176,
     "metadata": {},
     "output_type": "execute_result"
    }
   ],
   "source": [
    "(sr2222_daily['Adj Close'].max()-sr2222_daily['Adj Close'].min())/sr2222_daily['Adj Close'].max()"
   ]
  },
  {
   "cell_type": "markdown",
   "metadata": {
    "id": "kLXxhy_7F7C5"
   },
   "source": [
    "## A5"
   ]
  },
  {
   "cell_type": "code",
   "execution_count": 214,
   "metadata": {
    "colab": {
     "base_uri": "https://localhost:8080/",
     "height": 1000
    },
    "id": "snrIj6WCZkkZ",
    "outputId": "f6e64430-b3a8-41b8-855e-477e3f1cb81a",
    "scrolled": false
   },
   "outputs": [],
   "source": [
    "# get actions, incl. dividends - as a dataFrame\n",
    "jpm = yf.Ticker('JPM')\n",
    "jpm_df=jpm.get_actions()\n",
    "jpm_div=jpm_df[(jpm_df.index >='2023-01-01') & (jpm_df.index <='2023-12-31')]['Dividends'].sum()"
   ]
  },
  {
   "cell_type": "code",
   "execution_count": 215,
   "metadata": {},
   "outputs": [
    {
     "data": {
      "text/plain": [
       "2.409608190645897"
      ]
     },
     "execution_count": 215,
     "metadata": {},
     "output_type": "execute_result"
    }
   ],
   "source": [
    "jpm_div/jpm_daily[jpm_daily.index==jpm_daily.index.max()]['Adj Close'][0]*100"
   ]
  },
  {
   "cell_type": "code",
   "execution_count": 216,
   "metadata": {},
   "outputs": [],
   "source": [
    "goog = yf.Ticker('GOOG')\n",
    "goog_df=goog.get_actions()\n",
    "goog_div=goog_df[(goog_df.index >='2023-01-01') & (goog_df.index <='2023-12-31')]['Dividends'].sum()"
   ]
  },
  {
   "cell_type": "code",
   "execution_count": 217,
   "metadata": {
    "scrolled": true
   },
   "outputs": [
    {
     "data": {
      "text/plain": [
       "0.0"
      ]
     },
     "execution_count": 217,
     "metadata": {},
     "output_type": "execute_result"
    }
   ],
   "source": [
    "goog_div/goog_daily[goog_daily.index==goog_daily.index.max()]['Adj Close'][0]*100"
   ]
  },
  {
   "cell_type": "code",
   "execution_count": 218,
   "metadata": {},
   "outputs": [],
   "source": [
    "msft = yf.Ticker('MSFT')\n",
    "msft_df=msft.get_actions()\n",
    "msft_div=msft_df[(msft_df.index >='2023-01-01') & (msft_df.index <='2023-12-31')]['Dividends'].sum()"
   ]
  },
  {
   "cell_type": "code",
   "execution_count": 219,
   "metadata": {},
   "outputs": [
    {
     "data": {
      "text/plain": [
       "0.7433143940964608"
      ]
     },
     "execution_count": 219,
     "metadata": {},
     "output_type": "execute_result"
    }
   ],
   "source": [
    "msft_div/msft_daily[msft_daily.index==msft_daily.index.max()]['Adj Close'][0]*100"
   ]
  },
  {
   "cell_type": "code",
   "execution_count": 220,
   "metadata": {},
   "outputs": [],
   "source": [
    "brkb = yf.Ticker('BRK-B')\n",
    "brkb_df=brkb.get_actions()\n",
    "brkb_div=brkb_df[(brkb_df.index >='2023-01-01') & (brkb_df.index <='2023-12-31')]['Dividends'].sum()"
   ]
  },
  {
   "cell_type": "code",
   "execution_count": 221,
   "metadata": {},
   "outputs": [
    {
     "data": {
      "text/plain": [
       "0.0"
      ]
     },
     "execution_count": 221,
     "metadata": {},
     "output_type": "execute_result"
    }
   ],
   "source": [
    "brkb_div/brkb_daily[brkb_daily.index==brkb_daily.index.max()]['Adj Close'][0]*100"
   ]
  },
  {
   "cell_type": "code",
   "execution_count": 222,
   "metadata": {},
   "outputs": [],
   "source": [
    "sr2222 = yf.Ticker('2222.SR')\n",
    "sr2222_df=sr2222.get_actions()\n",
    "sr2222_div=sr2222_df[(sr2222_df.index >='2023-01-01') & (sr2222_df.index <='2023-12-31')]['Dividends'].sum()"
   ]
  },
  {
   "cell_type": "code",
   "execution_count": 224,
   "metadata": {},
   "outputs": [
    {
     "data": {
      "text/plain": [
       "2.770149819503256"
      ]
     },
     "execution_count": 224,
     "metadata": {},
     "output_type": "execute_result"
    }
   ],
   "source": [
    "sr2222_div/sr2222_daily[sr2222_daily.index==sr2222_daily.index.max()]['Adj Close'][0]*100"
   ]
  }
 ],
 "metadata": {
  "colab": {
   "collapsed_sections": [
    "_sMONMJHjXkM"
   ],
   "provenance": []
  },
  "kernelspec": {
   "display_name": "Python 3 (ipykernel)",
   "language": "python",
   "name": "python3"
  },
  "language_info": {
   "codemirror_mode": {
    "name": "ipython",
    "version": 3
   },
   "file_extension": ".py",
   "mimetype": "text/x-python",
   "name": "python",
   "nbconvert_exporter": "python",
   "pygments_lexer": "ipython3",
   "version": "3.9.12"
  }
 },
 "nbformat": 4,
 "nbformat_minor": 1
}
